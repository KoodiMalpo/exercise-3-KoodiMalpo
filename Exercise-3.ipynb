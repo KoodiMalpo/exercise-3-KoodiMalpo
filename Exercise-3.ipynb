{
 "cells": [
  {
   "cell_type": "markdown",
   "id": "d24327a4-4128-488a-8de9-0662eda7f9c2",
   "metadata": {},
   "source": [
    "# Exercise 3\n",
    "\n",
    "Exercise 3 includes five problems (+ 1 optional) that you need to solve with **programming**. For each problem you need to modify the notebook by adding your own solutions. Remember to save and commit your changes locally, and push your changes to GitHub regularly! Regular commits will help you to keep track of your changes (and revert them if needed). Pushing your work to GitHub will ensure that you don't lose any work in case anything happen with your computer.\n",
    " \n",
    "An overview of the tasks (total 20 points):\n",
    "\n",
    " - Problem 1: get familiar with CSC Noppe cloud computing environment and working with Git (version control)\n",
    " - Problem 2: read data into geopandas from different file formats and make maps out of the data\n",
    " - Problem 3: geocode addresses from Excel file(s)\n",
    " - Problem 4: create a routable network for car\n",
    " - Problem 5: conduct shortest path analysis along road network\n",
    " - *(Problem 6: Optional: conduct shortest path analysis between multiple locations.)*\n",
    " - Problem 7: give us an estimate about how much time you used for doing the exercise and optional feedback about it\n",
    " \n",
    "### Time allocation\n",
    "\n",
    "Because this is the first time, this exercise is given, we do not yet have an accurate estimate of the workload. However, we estimate that it takes over 10 hours to finish this Exercise. The time it takes can vary significantly from student to student, so we recommended that you start immediately working on the exercise to avoid issues meeting with the deadline.\n",
    "\n",
    "### Due date\n",
    "\n",
    "You should submit (push) your Exercise answers to your personal Github repository **by Friday 15th November 23:59**. \n",
    "      \n",
    "### Start your exercise in CSC Noppe\n",
    "\n",
    "Before you can start programming, you need to launch the CSC Notebook instance and clone your **personal copy of the Exercise repository** (i.e. something like `exercise-3-htenkanen`) there using Git. \n",
    "\n",
    "### Working with Jupyter Notebooks\n",
    "\n",
    "Jupyter Notebooks are documents that can be used and run inside the JupyterLab programming environment (e.g. at [noppe.csc.fi](https://noppe.csc.fi/)) containing the computer code and rich text elements (such as text, figures, tables and links). \n",
    "\n",
    "**A couple of hints**:\n",
    "\n",
    "- You can **execute a cell** by clicking a given cell that you want to run and pressing <kbd>Shift</kbd> + <kbd>Enter</kbd> (or by clicking the \"Play\" button on top)\n",
    "- You can **change the cell-type** between `Markdown` (for writing text) and `Code` (for writing/executing code) from the dropdown menu above. \n",
    "\n",
    "See [**further details and help from here**](https://pythongis.org/part1/chapter-01/nb/04-using-jupyterlab.html). \n",
    " \n",
    "### Hints \n",
    "\n",
    "If there are general questions arising from this exercise, we will add hints to the course website under [Exercise 3 description](https://introsda.readthedocs.io/en/latest/exercises/exercise-3.html). "
   ]
  },
  {
   "cell_type": "markdown",
   "id": "9173be92-d3f6-4b14-a7a5-ef191309505e",
   "metadata": {
    "deletable": false,
    "editable": false,
    "nbgrader": {
     "cell_type": "markdown",
     "checksum": "e9f82abd7274e9ac06786231bac77645",
     "grade": false,
     "grade_id": "cell-b3a2748b885f660d",
     "locked": true,
     "points": 1,
     "schema_version": 3,
     "solution": false,
     "task": true
    }
   },
   "source": [
    "## Problem 1 - Getting started with CSC Noppe (1 point)\n",
    "\n",
    "In the first problem this week, your target is to learn how to work with CSC Noppe cloud computing environment. There are four tasks in this problem:\n",
    "\n",
    "**Task 1.1.** Join the CSC Noppe workspace of the course by [following these materials in Tutorial 0](https://introsda.readthedocs.io/en/develop/tutorials/git-basics.html#join-the-csc-noppe-workspace-of-the-course)\n",
    "\n",
    "**Task 1.2.** Create a Personal Access Token for Github by [following these materials in Tutorial 0](https://introsda.readthedocs.io/en/develop/tutorials/git-basics.html#create-a-personal-access-token)\n",
    "\n",
    "**Task 1.3.** Launch a new Noppe session [by following these materials](https://introsda.readthedocs.io/en/develop/tutorials/git-basics.html#start-noppe-computing-instance) that will open a JupyterLab in your browser that you can use for programming\n",
    "\n",
    "**Task 1.4** Start working on the Exercise 3 in Noppe [by following these materials](https://introsda.readthedocs.io/en/develop/tutorials/git-basics.html#start-working-on-the-exercise). Go through the tutorial carefully that will show you how to make simple change to the Readme.md file and then commit and push your changes back into your personal Github repository."
   ]
  },
  {
   "cell_type": "markdown",
   "id": "934d4ac1-d202-4202-994f-a02c5eb3c085",
   "metadata": {},
   "source": [
    "## Problem 2 - Warm up: Creating a simple map with geopandas (Total 5 points)\n",
    "\n",
    "In this problem, the overall idea is to learn how you can read specific datasets from OpenStreetMap and visualize those layers as a simple map. \n",
    "\n",
    "### Read first\n",
    "\n",
    "Read first the [Tutorial 1 in the course page](https://introsda.readthedocs.io/en/latest/tutorials/intro-to-python-geostack.html) that contains all the required information that you need to be able to solve this problem with programming.\n",
    "\n",
    "**Extra resources:**\n",
    " \n",
    "If you need further help or want to learn more, you can read more about GIS techniques in Python from [Introduction to Python for Geographic Data Analysis](https://pythongis.org) -online book, specifically:\n",
    "\n",
    "- [Chapter 6.2, Geopandas Data Structures](https://pythongis.org/part2/chapter-06/nb/01-geodataframe.html) \n",
    "- [Chapter 6.3, Common geometric operations](https://pythongis.org/part2/chapter-06/nb/02-geometric-operations.html)\n",
    "- [Chapter 6.6, Selecting data based on spatial relationships](https://pythongis.org/part2/chapter-06/nb/05-spatial-queries.html)\n",
    "- [Chapter 6.7, Spatial join](https://pythongis.org/part2/chapter-06/nb/06-spatial-join.html)\n",
    "- [Chapter 8.2, Static maps](https://pythongis.org/part2/chapter-08/nb/01-static-vector-maps.html)\n",
    "\n",
    "### Task 2.1 (1.5/5 points)\n",
    "\n",
    "In this, task you should write code in which you:\n",
    " \n",
    "- Download data from OpenStreetMap for Helsinki Region using `osmnx`\n",
    "- Read following datasets from the OSM:\n",
    " \n",
    "   1. Buildings\n",
    "   2. Roads\n",
    "   3. Administrative boundary for the city district where you live, e.g. \"Otaniemi\" (see the tutorial)\n",
    " \n",
    "Please write your solution to the cell below (remove the `raise NotImplementedError()` code). You can create new cells as well if needed."
   ]
  },
  {
   "cell_type": "code",
   "execution_count": null,
   "id": "bad81580-7f6d-4dec-a474-15da38a188ae",
   "metadata": {
    "deletable": false,
    "nbgrader": {
     "cell_type": "code",
     "checksum": "94fd4ae444fa898493796a431f83bce9",
     "grade": true,
     "grade_id": "cell-d5abeb3516fff0d2",
     "locked": false,
     "points": 1.5,
     "schema_version": 3,
     "solution": true,
     "task": false
    }
   },
   "outputs": [],
   "source": [
    "# REPLACE THE ERROR BELOW WITH YOUR OWN CODE\n",
    "raise NotImplementedError()"
   ]
  },
  {
   "cell_type": "markdown",
   "id": "ae239043-4715-4d7a-b3d6-04f8184824d5",
   "metadata": {},
   "source": [
    "### Task 2.2 (1.5/5 points)\n",
    " \n",
    " - Select the buildings and roads that intersect with the given administrative boundary (district) \n",
    " - Reproject the selected buildings and roads to EPSG:3067 (ETRS-TM35FIN)\n",
    "\n",
    "Please write your solution to the cell below (remove the `raise NotImplementedError()` code). You can create new cells as well if needed."
   ]
  },
  {
   "cell_type": "code",
   "execution_count": null,
   "id": "c02a0a68-9d90-4bff-ac57-2e156eb05dd9",
   "metadata": {
    "deletable": false,
    "nbgrader": {
     "cell_type": "code",
     "checksum": "9c52a14b645350fcb5552ac30acccaa1",
     "grade": true,
     "grade_id": "cell-08fbd6a4bbb8cb0b",
     "locked": false,
     "points": 1.5,
     "schema_version": 3,
     "solution": true,
     "task": false
    }
   },
   "outputs": [],
   "source": [
    "# REPLACE THE ERROR BELOW WITH YOUR OWN CODE\n",
    "raise NotImplementedError()"
   ]
  },
  {
   "cell_type": "markdown",
   "id": "28472555-1ba2-4b72-a870-c5a044d8b8ca",
   "metadata": {},
   "source": [
    "### Task 2.3 (2/5 points)\n",
    "\n",
    "- Visualize the reprojected buildings, roads and the administrative boundary and produce a map that pleases your eye (style is free). \n",
    "   - Add a title to your map\n",
    "   - If you want to use black background you can `import matplotlib.pyplot as plt` and specify `plt.style.use(\"dark_background\")`\n",
    "   - For example, the output could look like following:\n",
    " \n",
    "![Example image](img/hoods-example.png)\n",
    "\n",
    "\n",
    "Please write your solution to the cell below (remove the `raise NotImplementedError()` code). You can create new cells as well if needed."
   ]
  },
  {
   "cell_type": "code",
   "execution_count": null,
   "id": "90b03a80-e8a8-49b2-9e1a-5f484303500d",
   "metadata": {
    "deletable": false,
    "nbgrader": {
     "cell_type": "code",
     "checksum": "5cbba5da310ad316751e6cf425e1cb5f",
     "grade": true,
     "grade_id": "cell-e6a81a526bc23891",
     "locked": false,
     "points": 2,
     "schema_version": 3,
     "solution": true,
     "task": false
    }
   },
   "outputs": [],
   "source": [
    "# REPLACE THE ERROR BELOW WITH YOUR OWN CODE\n",
    "raise NotImplementedError()"
   ]
  },
  {
   "cell_type": "markdown",
   "id": "1006a130-2357-4984-a7b3-6abbd2424f73",
   "metadata": {},
   "source": [
    "## Problem 3 - Geocoding addresses (Total 3 points)\n",
    "\n",
    "In this problem, the overall idea is to geocode addresses of two different datasets (rescue stations and swimming halls) and then create a simple map that shows the locations of these facilities in Helsinki. \n",
    "\n",
    "### Read first\n",
    " \n",
    "To understand the basics of geocoding, you should first read the following chapter from the [Introduction to Python for Geographic Data Analysis](https://pythongis.org) -online book that provides key information to solve this problem:\n",
    "\n",
    "- [Chapter 6.5, Geocoding](https://pythongis.org/part2/chapter-06/nb/04-geocoding.html)\n",
    "\n",
    "\n",
    "### Task 3.1 (1/3 points)\n",
    "\n",
    "- Read addresses of **rescue stations** stored in the `data/helsinki_rescue_stations_addresses.xlsx` using the `.read_excel()` function of `pandas`,\n",
    "- Geocode the addresses as points using the `geocode()` function of `geopandas`:\n",
    "   - You should use `\"nominatim\"` as the `provider`, `\"introsda\"` as `user_agent`, and 10 seconds `timeout`\n",
    "- Join the information from the rescue stations into the geocoded addresses and the rescue stations using the `.join()` method\n",
    "\n",
    "As a result you should have a table that looks something like below (the first 2 rows):\n",
    "![](img/geocoded_rescue_stations.png)\n",
    "\n",
    "\n",
    "Please write your solution to the cell below (remove the `raise NotImplementedError()` code). You can create new cells as well if needed."
   ]
  },
  {
   "cell_type": "code",
   "execution_count": null,
   "id": "dc339d22-fb39-4ca3-87ca-497ff1e9c889",
   "metadata": {
    "deletable": false,
    "nbgrader": {
     "cell_type": "code",
     "checksum": "6964bc737313ade1620987940bcb7330",
     "grade": true,
     "grade_id": "cell-8c67f7bebcaeaa06",
     "locked": false,
     "points": 1,
     "schema_version": 3,
     "solution": true,
     "task": false
    }
   },
   "outputs": [],
   "source": [
    "import geopandas as gpd\n",
    "from geopandas.tools import geocode\n",
    "import pandas as pd\n",
    "import contextily as ctx\n",
    "import osmnx as ox\n",
    "\n",
    "# REPLACE THE ERROR BELOW WITH YOUR OWN CODE\n",
    "raise NotImplementedError()"
   ]
  },
  {
   "cell_type": "markdown",
   "id": "06ace66b-816c-4ff9-b458-a51182f97d9a",
   "metadata": {},
   "source": [
    "### Task 3.2 (1/3 points)\n",
    "\n",
    "- Read addresses of **swimming halls** stored in the `data/helsinki_swimming_hall_addresses.xlsx` using the `read_excel()` function of `pandas`,\n",
    "- geocode the addresses as points using the `geocode()` function of `geopandas`:\n",
    "   - You should use `\"nominatim\"` as the `provider`, `\"introsda\"` as `user_agent`, and 10 seconds `timeout`  \n",
    "- Join the information from the rescue stations into the geocoded addresses and the rescue stations using the `.join()` method\n",
    "\n",
    "As a result you should have a table that looks something like below (the first 2 rows):\n",
    "![](img/geocoded_swimming_halls.png)\n",
    "\n",
    "\n",
    "Please write your solution to the cell below (remove the `raise NotImplementedError()` code). You can create new cells as well if needed."
   ]
  },
  {
   "cell_type": "code",
   "execution_count": null,
   "id": "f76d3b52-faad-48f4-a05b-8323a63265ef",
   "metadata": {
    "deletable": false,
    "nbgrader": {
     "cell_type": "code",
     "checksum": "4e22b2daa9a011ab6209c85019c7aa1e",
     "grade": true,
     "grade_id": "cell-bb8d58081a8270a9",
     "locked": false,
     "points": 1,
     "schema_version": 3,
     "solution": true,
     "task": false
    }
   },
   "outputs": [],
   "source": [
    "# REPLACE THE ERROR BELOW WITH YOUR OWN CODE\n",
    "raise NotImplementedError()"
   ]
  },
  {
   "cell_type": "markdown",
   "id": "48c9731b-01d8-4ca5-b80a-bd11412adb14",
   "metadata": {},
   "source": [
    "### Task 3.3 (1/3 points)\n",
    "\n",
    "- Visualize the two layers in a single map where the swimming halls are presented with blue points, and rescue stations are presented with red points.\n",
    "- Add a basemap using the `.add_basemap()` function of the `contextily` library:\n",
    "  - Use the `CartoDB.positron` as the basemap data provider\n",
    "  - Use the CRS of the rescue stations as the `crs` for the basemap\n",
    "\n",
    "As a result, you should get a map that looks something like below:\n",
    "\n",
    "![Map](img/geocoded_addresses_map.png)\n",
    "\n",
    "\n",
    "Please write your solution to the cell below (remove the `raise NotImplementedError()` code). You can create new cells as well if needed."
   ]
  },
  {
   "cell_type": "code",
   "execution_count": null,
   "id": "8fc50082-7537-413a-bdb1-f22271ddcc43",
   "metadata": {
    "deletable": false,
    "nbgrader": {
     "cell_type": "code",
     "checksum": "45069c4efa2fccfd7b5d99be9f912ce2",
     "grade": true,
     "grade_id": "cell-a6e9a5b0a6b61998",
     "locked": false,
     "points": 1,
     "schema_version": 3,
     "solution": true,
     "task": false
    }
   },
   "outputs": [],
   "source": [
    "# REPLACE THE ERROR BELOW WITH YOUR OWN CODE\n",
    "raise NotImplementedError()"
   ]
  },
  {
   "cell_type": "markdown",
   "id": "2877d596-ca7e-4240-bbef-aa24552aef55",
   "metadata": {},
   "source": [
    "## Problem 4 - Create a routable network for routing (6 points)\n",
    "\n",
    "In this problem, the overall idea is to prepare a routable graph for the city of Helsinki that we can later use to conduct a shortest path analysis between different locations. \n",
    "\n",
    "### Read first\n",
    " \n",
    "To understand the basics of network analysis in Python, you should first read the [Tutorial 2 from the course website](https://introsda.readthedocs.io/en/latest/tutorials/spatial_network_analysis.html) that includes all the required information to solve this problem.\n",
    "\n",
    "### Task 4.1 (2/6 points)\n",
    "\n",
    "- Fetch drivable roads as a graph for Helsinki Region using the `.graph_from_place()` function of `osmnx` library\n",
    "- Extract the nodes and edges of the graph by using the `graph_to_gdfs()` function of the `osmnx`\n",
    "- Plot the nodes and edges in a single map\n",
    "\n",
    "As a result, you should get a map that looks something like below:\n",
    "\n",
    "![](img/nodes_and_edges_helsinki.png)\n",
    "\n",
    " \n",
    "Please write your solution to the cell below (remove the `raise NotImplementedError()` code). You can create new cells as well if needed."
   ]
  },
  {
   "cell_type": "code",
   "execution_count": null,
   "id": "2bc06a1b-fef7-40a0-8b39-4a93fd0b73d4",
   "metadata": {
    "deletable": false,
    "nbgrader": {
     "cell_type": "code",
     "checksum": "9335f46f3913be1257cbc8c17e615ca8",
     "grade": true,
     "grade_id": "cell-fd70f705a9c5d603",
     "locked": false,
     "points": 2,
     "schema_version": 3,
     "solution": true,
     "task": false
    }
   },
   "outputs": [],
   "source": [
    "import osmnx as ox\n",
    "\n",
    "# Place name\n",
    "query = \"Helsinki, Finland\"\n",
    "\n",
    "# REPLACE THE ERROR BELOW WITH YOUR OWN CODE\n",
    "raise NotImplementedError()"
   ]
  },
  {
   "cell_type": "markdown",
   "id": "f3140e38-d080-4664-8fb8-c1beb1059799",
   "metadata": {},
   "source": [
    "### Task 4.2 (2/6 points)\n",
    "\n",
    "- Fill speed limit information (`maxspeed`) for roads which lacks this information following the same logic as presented in the [Tutorial 2 of the course](https://introsda.readthedocs.io/en/latest/tutorials/spatial_network_analysis.html)\n",
    "- Visualize the speed limit information and create a simple map\n",
    "\n",
    "As a result, you should get a map that looks something like following:\n",
    "\n",
    "![](img/speed_limits_helsinki.png)\n",
    "\n",
    "Please write your solution to the cell below (remove the `raise NotImplementedError()` code). You can create new cells as well if needed."
   ]
  },
  {
   "cell_type": "code",
   "execution_count": null,
   "id": "18cb3087-a777-43fb-9f79-98ca173c869b",
   "metadata": {
    "deletable": false,
    "nbgrader": {
     "cell_type": "code",
     "checksum": "968e94e032571e94c96a0c904fa9c3c2",
     "grade": true,
     "grade_id": "cell-1db185f75ad03c97",
     "locked": false,
     "points": 2,
     "schema_version": 3,
     "solution": true,
     "task": false
    }
   },
   "outputs": [],
   "source": [
    "# REPLACE THE ERROR BELOW WITH YOUR OWN CODE\n",
    "raise NotImplementedError()"
   ]
  },
  {
   "cell_type": "markdown",
   "id": "31e45df2-a3c2-448c-b325-507dddacbd86",
   "metadata": {},
   "source": [
    "### Task 4.3 (1/6 points)\n",
    "\n",
    "- Calculate drive time in seconds for each edge based on the `length` and `maxspeed` columns and store the result in a column `travel_time_seconds`. Use the following formula:\n",
    "  - `length / maxspeed / 3.6`\n",
    "\n",
    "As a result, the first rows in the `edges` should look something like this, i.e you should have a column with travel times in seconds as the last column in the GeoDataFrame:\n",
    "\n",
    "![](img/travel_times_edges.png)\n",
    "\n",
    "Please write your solution to the cell below (remove the `raise NotImplementedError()` code). You can create new cells as well if needed."
   ]
  },
  {
   "cell_type": "code",
   "execution_count": null,
   "id": "ae062276-48ce-4893-b746-a68422c7add5",
   "metadata": {
    "deletable": false,
    "nbgrader": {
     "cell_type": "code",
     "checksum": "0a6229f156b6762bada0615731eeaa2b",
     "grade": true,
     "grade_id": "cell-30273fa52a93af55",
     "locked": false,
     "points": 1,
     "schema_version": 3,
     "solution": true,
     "task": false
    }
   },
   "outputs": [],
   "source": [
    "# REPLACE THE ERROR BELOW WITH YOUR OWN CODE\n",
    "raise NotImplementedError()"
   ]
  },
  {
   "cell_type": "markdown",
   "id": "5b65568c-2dad-4d8c-86fe-e487f723e88f",
   "metadata": {},
   "source": [
    "### Questions (1/6 point)\n",
    "\n",
    "Based on the road network edges, answer to following questions. Use `pandas` functionalities to find out the answers to these questions:\n",
    "\n",
    "- **Question 4.1** What is the mean length of all distances?\n",
    "- **Question 4.2** What is the mean travel time (in seconds) of all roads?"
   ]
  },
  {
   "cell_type": "markdown",
   "id": "70dfde5a-0579-4247-95ee-eb4402a32ea7",
   "metadata": {
    "deletable": false,
    "editable": false,
    "nbgrader": {
     "cell_type": "markdown",
     "checksum": "67356bbfa892978c8cb36b45d0663e42",
     "grade": false,
     "grade_id": "cell-94d20702ce1f7e08",
     "locked": true,
     "points": 1,
     "schema_version": 3,
     "solution": false,
     "task": true
    }
   },
   "source": [
    "### Answers\n",
    "\n",
    "- **Answer 4.1**:\n",
    "- **Answer 4.2**:\n",
    "\n",
    "*Hint: To \"activate\" this cell in Editing mode, double click this cell. If you want to get this cell back in the \"Reading-mode\", press Shift+Enter.*"
   ]
  },
  {
   "cell_type": "markdown",
   "id": "b5b6a382-7a46-495e-80ff-6392cd9d619e",
   "metadata": {},
   "source": [
    "## Problem 5 - Network analysis with Python (4 points)\n",
    "\n",
    "In this problem, the overall idea is to use the routable graph created in Problem 4 and conduct a shortest path analysis between one rescue station and one swimming hall. \n",
    "\n",
    "### Read first\n",
    " \n",
    "To understand the basics of network analysis in Python, you should first read the [Tutorial 2 from the course website](https://introsda.readthedocs.io/en/latest/tutorials/spatial_network_analysis.html) that includes all the required information to solve this problem.\n",
    "\n",
    "### Task 5.1 (1/4 points)\n",
    "\n",
    "- Create a routable graph based on the `nodes` and `edges` using the `ox.graph_from_gdfs()` function of `osmnx`\n",
    "- Pick the first row from the i) rescue stations and ii) swimming halls and store them into variables called `station` and `swimming_hall`\n",
    "- Extract the `x` and `y` coordinates of these locations that we use as origin and destination location in the routing:\n",
    "  - Store the x/y coordinates of the `station` into variables `orig_x` and `orig_y`\n",
    "  - Store the x/y coordinates of the `swimming_hall` into variables `dest_x` and `dest_y`\n",
    "\n",
    "As a result, your X and Y coordinates for the origin and destination should look something like following:\n",
    "\n",
    "```\n",
    "Origin (x,y): 24.95073768352675, 60.1847604\n",
    "Destination (x,y): 25.141683772881358, 60.2088021\n",
    "```\n",
    "\n",
    "Please write your solution to the cell below (remove the `raise NotImplementedError()` code). You can create new cells as well if needed."
   ]
  },
  {
   "cell_type": "code",
   "execution_count": null,
   "id": "5fae6b72-bb6c-4833-b314-d4df318d5334",
   "metadata": {
    "deletable": false,
    "nbgrader": {
     "cell_type": "code",
     "checksum": "060b2646e559c08c1c3ff42bd189d81f",
     "grade": true,
     "grade_id": "cell-863a351c5966a3ff",
     "locked": false,
     "points": 1,
     "schema_version": 3,
     "solution": true,
     "task": false
    }
   },
   "outputs": [],
   "source": [
    "# REPLACE THE ERROR BELOW WITH YOUR OWN CODE\n",
    "raise NotImplementedError()"
   ]
  },
  {
   "cell_type": "markdown",
   "id": "88bf5d90-966b-41c8-af13-af1daf3d45dd",
   "metadata": {},
   "source": [
    "### Task 5.2 (1/4 points)\n",
    "\n",
    "- Find the nearest network node for the origin and destination using `ox.distance.nearest_nodes()` function:\n",
    "  - Store the nearest node for origin and destination into variables `origing_node_id` and `destination_node_id` accordingly\n",
    " \n",
    "As a result, you should get something like following:\n",
    "\n",
    "```\n",
    "Origin node-id: 3120542773.\n",
    "Destination node-id: 507744848.\n",
    "\n",
    "```\n",
    "\n",
    "Please write your solution to the cell below (remove the `raise NotImplementedError()` code). You can create new cells as well if needed."
   ]
  },
  {
   "cell_type": "code",
   "execution_count": null,
   "id": "cb8fbb05-7922-4524-874d-b52aa22ccd5f",
   "metadata": {
    "deletable": false,
    "nbgrader": {
     "cell_type": "code",
     "checksum": "a6f6f9b784de6cd81edcd163edcb54b3",
     "grade": true,
     "grade_id": "cell-2a6e7a51bb9bb59b",
     "locked": false,
     "points": 1,
     "schema_version": 3,
     "solution": true,
     "task": false
    }
   },
   "outputs": [],
   "source": [
    "# REPLACE THE ERROR BELOW WITH YOUR OWN CODE\n",
    "raise NotImplementedError()"
   ]
  },
  {
   "cell_type": "markdown",
   "id": "8f6e2af8-cd06-479f-88cd-b7b2d40df8d0",
   "metadata": {},
   "source": [
    "### Task 5.3 (2/4 points)\n",
    "\n",
    "- Calculate the shortest path **route** between the `origin_node_id` and the `destination_node_id` by using the `nx.dijkstra_path()` function of the `networkx` library:\n",
    "  - Use the `travel_time_seconds` as `weight` parameter\n",
    "  - Store the result into variable `route`\n",
    "\n",
    "- Calculate the total travel time of the shortest path between the `origin_node_id` and the `destination_node_id` by using the `nx.dijkstra_path_length()` function:\n",
    "  - Use the `travel_time_seconds` as `weight` parameter\n",
    "  - Store the result into variable `travel_time`\n",
    "\n",
    "- Make a map out of the results by using the `ox.plot_graph_route()` function of the `osmnx` library\n",
    "\n",
    "As a result, you should get a map that looks something like following:\n",
    "\n",
    "![](img/shortest_path_to_vuosaari.png)\n",
    "\n",
    "Please write your solution to the cell below (remove the `raise NotImplementedError()` code). You can create new cells as well if needed."
   ]
  },
  {
   "cell_type": "code",
   "execution_count": null,
   "id": "e6cc08e2-f2bd-40a2-b831-073a25d3a5f0",
   "metadata": {
    "deletable": false,
    "nbgrader": {
     "cell_type": "code",
     "checksum": "79cff286d94bebc2a428b67142c0ec5b",
     "grade": true,
     "grade_id": "cell-a123f6af4926639c",
     "locked": false,
     "points": 2,
     "schema_version": 3,
     "solution": true,
     "task": false
    }
   },
   "outputs": [],
   "source": [
    "# REPLACE THE ERROR BELOW WITH YOUR OWN CODE\n",
    "raise NotImplementedError()"
   ]
  },
  {
   "cell_type": "markdown",
   "id": "cbbbdcd2-6fb1-4286-8640-5bf6ef325e0d",
   "metadata": {},
   "source": [
    "## Problem 6 (optional) - Shortest paths between multiple locations\n",
    "\n",
    "**Note:** This is an optional problem for those who want to challenge themselves more. This does not influence the grading if you cannot complete the task.\n",
    "\n",
    "\n",
    "### Task 6.1 \n",
    "\n",
    "- Iterate over all rescue stations and all swimming halls and calculate the travel times and the routes between them\n",
    "- Store the details about the routings into a `pandas` `DataFrame` that should contain following information:\n",
    "\n",
    "![](img/shortest_paths_all_table.png)\n",
    "\n",
    "Please write your solution to the cell below (remove the `raise NotImplementedError()` code). You can create new cells as well if needed."
   ]
  },
  {
   "cell_type": "code",
   "execution_count": null,
   "id": "fd946b6b-9e3b-4c4f-b559-4b2fca3a52b6",
   "metadata": {
    "deletable": false,
    "nbgrader": {
     "cell_type": "code",
     "checksum": "b049b1cf60f48477b3c7a8ccee2dbcb5",
     "grade": true,
     "grade_id": "cell-9e45d3a0b085e699",
     "locked": false,
     "points": 0,
     "schema_version": 3,
     "solution": true,
     "task": false
    }
   },
   "outputs": [],
   "source": [
    "# REPLACE THE ERROR BELOW WITH YOUR OWN CODE\n",
    "raise NotImplementedError()"
   ]
  },
  {
   "cell_type": "markdown",
   "id": "7037ec46-8ae3-46eb-b1f4-10bd9f10dc8e",
   "metadata": {},
   "source": [
    "### Task 6.2 \n",
    "\n",
    "- Plot all the shortest routes by using the `ox.plot_graph_routes()` function\n",
    "\n",
    "As a result, you should get something like following:\n",
    "\n",
    "![](img/all_shortest_paths.png)\n",
    "\n",
    "Please write your solution to the cell below (remove the `raise NotImplementedError()` code). You can create new cells as well if needed."
   ]
  },
  {
   "cell_type": "code",
   "execution_count": null,
   "id": "4a464545-3560-4a35-bbd1-a1e92e438498",
   "metadata": {
    "deletable": false,
    "nbgrader": {
     "cell_type": "code",
     "checksum": "f7f006b281d13a79c9bfcb74c9843029",
     "grade": true,
     "grade_id": "cell-3828a9918e021c63",
     "locked": false,
     "points": 0,
     "schema_version": 3,
     "solution": true,
     "task": false
    }
   },
   "outputs": [],
   "source": [
    "# REPLACE THE ERROR BELOW WITH YOUR OWN CODE\n",
    "raise NotImplementedError()"
   ]
  },
  {
   "cell_type": "markdown",
   "id": "11c87d16-c37a-4a51-ae50-eefd4c83a6b9",
   "metadata": {},
   "source": [
    "### Task 6.3\n",
    "\n",
    "- Use `pandas` functionalities to group the observations based on destinations (i.e. swimming halls), and\n",
    "- find out which rescue station is the closest to each swimming hall\n",
    "\n",
    "As a result, you should get a table that looks something like following:\n",
    "\n",
    "![](img/shortest_path_to_closest_table.png)\n",
    "\n",
    "If you plot the routes on a map, you should get something like following:\n",
    "\n",
    "![](img/shortest_path_to_closest.png)\n",
    "\n",
    "Please write your solution to the cell below (remove the `raise NotImplementedError()` code). You can create new cells as well if needed."
   ]
  },
  {
   "cell_type": "code",
   "execution_count": null,
   "id": "2717ada3-c0c2-4f72-9679-373dea499b17",
   "metadata": {
    "deletable": false,
    "nbgrader": {
     "cell_type": "code",
     "checksum": "c6a5a42c6a4b509f0d6c8ec3fab555d2",
     "grade": true,
     "grade_id": "cell-9c6d3ce23cb1caf2",
     "locked": false,
     "points": 0,
     "schema_version": 3,
     "solution": true,
     "task": false
    }
   },
   "outputs": [],
   "source": [
    "# REPLACE THE ERROR BELOW WITH YOUR OWN CODE\n",
    "raise NotImplementedError()"
   ]
  },
  {
   "cell_type": "markdown",
   "id": "31cfbb8d-9737-47a1-b758-6c67b593b918",
   "metadata": {},
   "source": [
    "### Problem 6.4 \n",
    "\n",
    "- What is the **mean** travel time between closest rescue station and swimming hall?\n",
    "- What is the **maximum** travel time between closest rescue station and swimming hall?\n",
    "\n",
    "Please write your solution to the cell below (remove the `raise NotImplementedError()` code). You can create new cells as well if needed."
   ]
  },
  {
   "cell_type": "code",
   "execution_count": null,
   "id": "918db79f-0c6e-48f2-ac2f-1f30e51a57e3",
   "metadata": {
    "deletable": false,
    "nbgrader": {
     "cell_type": "code",
     "checksum": "a4f8861f56f78fbd9bacbf1ded44d865",
     "grade": true,
     "grade_id": "cell-e77b858e022e8a76",
     "locked": false,
     "points": 0,
     "schema_version": 3,
     "solution": true,
     "task": false
    }
   },
   "outputs": [],
   "source": [
    "# REPLACE THE ERROR BELOW WITH YOUR OWN CODE\n",
    "raise NotImplementedError()"
   ]
  },
  {
   "cell_type": "markdown",
   "id": "39927cd3-700c-4f36-bb79-a77f03c7dc37",
   "metadata": {
    "deletable": false,
    "editable": false,
    "nbgrader": {
     "cell_type": "markdown",
     "checksum": "ca9ae36f013adad66e000ded3f1b2fc2",
     "grade": false,
     "grade_id": "cell-2a031a05231cfb84",
     "locked": true,
     "points": 1,
     "schema_version": 3,
     "solution": false,
     "task": true
    }
   },
   "source": [
    "## Problem 7 - How long did it take? Optional feedback (1 point)\n",
    "\n",
    "To help developing the exercises, and understanding the time that it took for you to finish the Exercise, please provide an estimate of how many hours you spent for doing this exercise? *__Hint:__ To \"activate\" this cell in Editing mode, double click this cell. If you want to get this cell back in the \"Reading-mode\", press Shift+Enter.*\n",
    "\n",
    "\n",
    "I spent approximately this many hours: **X hours**\n",
    "\n",
    "In addition, if you would like to give any feedback about the exercise (optional), please provide it below:\n",
    "\n",
    "**My feedback:**"
   ]
  }
 ],
 "metadata": {
  "kernelspec": {
   "display_name": "Python 3 (ipykernel)",
   "language": "python",
   "name": "python3"
  },
  "language_info": {
   "codemirror_mode": {
    "name": "ipython",
    "version": 3
   },
   "file_extension": ".py",
   "mimetype": "text/x-python",
   "name": "python",
   "nbconvert_exporter": "python",
   "pygments_lexer": "ipython3",
   "version": "3.11.6"
  }
 },
 "nbformat": 4,
 "nbformat_minor": 5
}
